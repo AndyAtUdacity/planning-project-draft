{
 "cells": [
  {
   "cell_type": "code",
   "execution_count": 55,
   "metadata": {
    "collapsed": false
   },
   "outputs": [],
   "source": [
    "import Tkinter as tk\n",
    "from collections import namedtuple\n",
    "import math\n",
    "import time"
   ]
  },
  {
   "cell_type": "code",
   "execution_count": 46,
   "metadata": {
    "collapsed": true
   },
   "outputs": [],
   "source": [
    "Track = namedtuple(\"Track\", [\"radius\", \"num_lanes\", \"lane_width\"])\n",
    "\n",
    "\n",
    "\n",
    "def draw_track(canvas, track, w, h):\n",
    "    diam = track.radius * 2\n",
    "    top_left = (w - diam) / 2\n",
    "    bot_right = w - top_left\n",
    "    for i in range(track.num_lanes + 1):\n",
    "        canvas.create_oval(top_left-i*track.lane_width,\n",
    "                           top_left-i*track.lane_width, \n",
    "                           bot_right+i*track.lane_width, \n",
    "                           bot_right+i*track.lane_width)\n",
    "\n",
    "def add_car(L, s, d, canvas, track, lane_num):\n",
    "    r = track.radius + (lane_num + 0.5) * track.lane_width\n",
    "    print \"r is {}\".format(r)\n",
    "    circum = 2.0 * math.pi * r\n",
    "    print \"circum is {}\".format(circum)\n",
    "    theta = 2*math.pi * (s % circum) / circum\n",
    "    print \"theta is {}\".format(theta)\n",
    "    _x = r * math.cos(theta)\n",
    "    _y = r * math.sin(theta)\n",
    "    print \"_x is {} _y is {}\".format(_x, _y)\n",
    "    x = _x + CANVAS_WIDTH / 2\n",
    "    y = _y + CANVAS_HEIGHT  / 2\n",
    "    print \"x is {} y is {}\".format(x,y)\n",
    "    return canvas.create_oval(x-L, y-L, x+L, y+L)\n",
    "    \n",
    "def animation():\n",
    "    while True:\n",
    "        "
   ]
  },
  {
   "cell_type": "code",
   "execution_count": 22,
   "metadata": {
    "collapsed": true
   },
   "outputs": [],
   "source": [
    "CANVAS_HEIGHT = 800\n",
    "CANVAS_WIDTH  = 800"
   ]
  },
  {
   "cell_type": "code",
   "execution_count": 48,
   "metadata": {
    "collapsed": false
   },
   "outputs": [
    {
     "name": "stdout",
     "output_type": "stream",
     "text": [
      "r is 310.0\n",
      "circum is 1947.78744523\n",
      "theta is 0.0\n",
      "_x is 310.0 _y is 0.0\n",
      "x is 710.0 y is 400.0\n"
     ]
    }
   ],
   "source": [
    "master = tk.Tk()\n",
    "w = tk.Canvas(master, width=CANVAS_WIDTH, height=CANVAS_HEIGHT)\n",
    "w.pack()\n",
    "track = Track(300, 2, 20)\n",
    "draw_track(w, track, CANVAS_WIDTH, CANVAS_HEIGHT)\n",
    "car = add_car(6, 0, 0, w, track, 0)\n",
    "tk.mainloop()"
   ]
  },
  {
   "cell_type": "code",
   "execution_count": 50,
   "metadata": {
    "collapsed": false
   },
   "outputs": [
    {
     "name": "stdout",
     "output_type": "stream",
     "text": [
      "None\n"
     ]
    }
   ],
   "source": [
    "print(car)"
   ]
  },
  {
   "cell_type": "code",
   "execution_count": 83,
   "metadata": {
    "collapsed": true
   },
   "outputs": [],
   "source": [
    "class Car(object):\n",
    "    def __init__(self, s, d, speed, lane_num):\n",
    "        self.s = s\n",
    "        self.d = d\n",
    "        self.speed = speed\n",
    "        self.lane_num = lane_num\n",
    "        \n",
    "    def _advance(self, dt):\n",
    "        self.s += self.speed * dt\n",
    "        \n",
    "    def _get_coords(self, track):\n",
    "        r = track.radius + (self.lane_num + 0.5) * track.lane_width\n",
    "        circum = 2.0 * math.pi * r\n",
    "        theta = 2*math.pi * (self.s % circum) / circum\n",
    "        r = r + self.d\n",
    "        _x = r * math.cos(theta)\n",
    "        _y = r * math.sin(theta)\n",
    "        x = _x + CANVAS_WIDTH / 2\n",
    "        y = _y + CANVAS_HEIGHT  / 2\n",
    "        return (x,y)\n",
    "    \n",
    "    def update(self, dt, track):\n",
    "        old_x, old_y = self._get_coords(track)\n",
    "        self._advance(dt)\n",
    "        x, y = self._get_coords(track)\n",
    "        dx = old_x - x\n",
    "        dy = old_y - y\n",
    "        return (dx, dy)\n",
    "        \n",
    "\n",
    "class Simulation(object):\n",
    "    def __init__(self):\n",
    "        self.root = tk.Tk()\n",
    "        self.canvas = tk.Canvas(self.root, width=CANVAS_WIDTH, height = CANVAS_HEIGHT)\n",
    "        self.canvas.pack()\n",
    "        self.canvas.pack()\n",
    "        self.cars = []\n",
    "        self.animated_cars = []\n",
    "        self.root.after(0, self.animation)\n",
    "#         self.root.mainloop()\n",
    "\n",
    "    def draw_track(self, track, w, h):\n",
    "        diam = track.radius * 2\n",
    "        top_left = (w - diam) / 2\n",
    "        bot_right = w - top_left\n",
    "        self.track = track\n",
    "        for i in range(track.num_lanes + 1):\n",
    "            self.canvas.create_oval(top_left-i*track.lane_width,\n",
    "                               top_left-i*track.lane_width, \n",
    "                               bot_right+i*track.lane_width, \n",
    "                               bot_right+i*track.lane_width)\n",
    "\n",
    "    def add_car(self, L, s, d, track, lane_num):\n",
    "        car = Car(s,d, 10+2*lane_num, lane_num)\n",
    "        self.cars.append(car)\n",
    "        r = track.radius + (lane_num + 0.5) * track.lane_width\n",
    "\n",
    "        circum = 2.0 * math.pi * r\n",
    "\n",
    "        theta = 2*math.pi * (s % circum) / circum\n",
    "\n",
    "        _x = r * math.cos(theta)\n",
    "        _y = r * math.sin(theta)\n",
    "\n",
    "        x = _x + CANVAS_WIDTH / 2\n",
    "        y = _y + CANVAS_HEIGHT  / 2\n",
    "        \n",
    "        self.animated_cars.append(self.canvas.create_oval(x-L, y-L, x+L, y+L, outline=\"white\", fill=\"red\"))\n",
    "\n",
    "    def animate(self):\n",
    "        self.root.mainloop()\n",
    "\n",
    "    def animation(self):\n",
    "        track = 0\n",
    "        dt = 0.025\n",
    "        print \"calling animation\"\n",
    "        seen = False\n",
    "        while True:\n",
    "            for i, car in enumerate(self.cars):\n",
    "                animated_car = self.animated_cars[i]\n",
    "                if not seen:\n",
    "                    print \"on car {}\".format(i)\n",
    "                dx, dy = car.update(dt, self.track)\n",
    "                if not seen:\n",
    "                    print \"dx dy are {}, {}\".format(dx, dy)\n",
    "                self.canvas.move(animated_car, dx, dy)\n",
    "            seen = True\n",
    "#             x = 5\n",
    "#             y = 0\n",
    "#             if track == 0:\n",
    "#                 for i in range(0,51):\n",
    "#                     time.sleep(0.025)\n",
    "#                     self.canvas.move(self.alien1, x, y)\n",
    "#                     self.canvas.move(self.alien2, x, y)\n",
    "#                     self.canvas.update()\n",
    "#                 track = 1\n",
    "#                 print \"check\"\n",
    "\n",
    "#             else:\n",
    "#                 for i in range(0,51):\n",
    "#                     time.sleep(0.025)\n",
    "#                     self.canvas.move(self.alien1, -x, y)\n",
    "#                     self.canvas.move(self.alien2, -x, y)\n",
    "#                     self.canvas.update()\n",
    "#                 track = 0\n",
    "#             print track"
   ]
  },
  {
   "cell_type": "code",
   "execution_count": null,
   "metadata": {
    "collapsed": false
   },
   "outputs": [],
   "source": [
    "s = Simulation()\n",
    "track = Track(300, 2, 20)\n",
    "s.draw_track(track, CANVAS_WIDTH, CANVAS_HEIGHT)\n",
    "s.add_car(6, 0, 0, track, 0)\n",
    "s.animate()"
   ]
  },
  {
   "cell_type": "code",
   "execution_count": 61,
   "metadata": {
    "collapsed": false
   },
   "outputs": [
    {
     "name": "stdout",
     "output_type": "stream",
     "text": [
      "check\n",
      "1\n",
      "0\n"
     ]
    },
    {
     "name": "stderr",
     "output_type": "stream",
     "text": [
      "Exception in Tkinter callback\n",
      "Traceback (most recent call last):\n",
      "  File \"/System/Library/Frameworks/Python.framework/Versions/2.7/lib/python2.7/lib-tk/Tkinter.py\", line 1536, in __call__\n",
      "    return self.func(*args)\n",
      "  File \"/System/Library/Frameworks/Python.framework/Versions/2.7/lib/python2.7/lib-tk/Tkinter.py\", line 587, in callit\n",
      "    func(*args)\n",
      "  File \"<ipython-input-59-d99eb366b1c2>\", line 23, in animation\n",
      "    self.canvas.move(self.alien1, x, y)\n",
      "  File \"/System/Library/Frameworks/Python.framework/Versions/2.7/lib/python2.7/lib-tk/Tkinter.py\", line 2416, in move\n",
      "    self.tk.call((self._w, 'move') + args)\n",
      "TclError: invalid command name \".4591376576\"\n"
     ]
    }
   ],
   "source": [
    "s.animate()"
   ]
  },
  {
   "cell_type": "code",
   "execution_count": null,
   "metadata": {
    "collapsed": true
   },
   "outputs": [],
   "source": []
  }
 ],
 "metadata": {
  "kernelspec": {
   "display_name": "Python 2",
   "language": "python",
   "name": "python2"
  },
  "language_info": {
   "codemirror_mode": {
    "name": "ipython",
    "version": 2
   },
   "file_extension": ".py",
   "mimetype": "text/x-python",
   "name": "python",
   "nbconvert_exporter": "python",
   "pygments_lexer": "ipython2",
   "version": "2.7.10"
  }
 },
 "nbformat": 4,
 "nbformat_minor": 0
}
