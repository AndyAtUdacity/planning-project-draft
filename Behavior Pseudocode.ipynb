{
 "cells": [
  {
   "cell_type": "code",
   "execution_count": 3,
   "metadata": {
    "collapsed": false
   },
   "outputs": [
    {
     "ename": "TypeError",
     "evalue": "namedtuple() takes at least 2 arguments (1 given)",
     "output_type": "error",
     "traceback": [
      "\u001b[0;31m---------------------------------------------------------------------------\u001b[0m",
      "\u001b[0;31mTypeError\u001b[0m                                 Traceback (most recent call last)",
      "\u001b[0;32m<ipython-input-3-e1261c6ff24f>\u001b[0m in \u001b[0;36m<module>\u001b[0;34m()\u001b[0m\n\u001b[1;32m      1\u001b[0m \u001b[0;32mfrom\u001b[0m \u001b[0mcollections\u001b[0m \u001b[0;32mimport\u001b[0m \u001b[0mnamedtuple\u001b[0m\u001b[0;34m\u001b[0m\u001b[0m\n\u001b[1;32m      2\u001b[0m \u001b[0;34m\u001b[0m\u001b[0m\n\u001b[0;32m----> 3\u001b[0;31m \u001b[0mLocation\u001b[0m \u001b[0;34m=\u001b[0m \u001b[0mnamedtuple\u001b[0m\u001b[0;34m(\u001b[0m\u001b[0;34m[\u001b[0m\u001b[0;34m\"s\"\u001b[0m\u001b[0;34m,\u001b[0m \u001b[0;34m\"lane\"\u001b[0m\u001b[0;34m]\u001b[0m\u001b[0;34m)\u001b[0m\u001b[0;34m\u001b[0m\u001b[0m\n\u001b[0m\u001b[1;32m      4\u001b[0m \u001b[0;34m\u001b[0m\u001b[0m\n\u001b[1;32m      5\u001b[0m STATES = [\n",
      "\u001b[0;31mTypeError\u001b[0m: namedtuple() takes at least 2 arguments (1 given)"
     ]
    }
   ],
   "source": [
    "from collections import namedtuple\n",
    "\n",
    "Location = namedtuple( \"Location\", [\"s\", \"lane\"])\n",
    "\n",
    "Lane = namedtuple(\"Lane\", [\"id\", \"number\"]) # 0 for number means closest to center yellow line\n",
    "\n",
    "Goal = Location\n",
    "\n",
    "\n",
    "\n",
    "# class Map():\n",
    "#     def __init__(s, lane)\n",
    "\n",
    "STATES = [\n",
    "    \"ready_to_drive\",\n",
    "    \"follow_line\",\n",
    "    \"lane_change_left\",\n",
    "    \"lane_change_right\",\n",
    "    \"track_gap_left\", # used to prepare for a lane change left\n",
    "    \"track_gap_right\"\n",
    "]\n",
    "\n",
    "\n",
    "ALLOWED_TRANSITIONS = [\n",
    "    [0, 1, 0, 0, 0, 0],\n",
    "    [0, 1, 1, 1, 1, 1],\n",
    "    [0, 1, 1, 0, 0, 0],\n",
    "    [0, 1, 0, 1, 0, 0],\n",
    "    [0, 1, 1, 0, 1, 0],\n",
    "    []\n",
    "]\n",
    "\n",
    "\n",
    "    \n",
    "    \n",
    "    "
   ]
  },
  {
   "cell_type": "code",
   "execution_count": 1,
   "metadata": {
    "collapsed": false
   },
   "outputs": [
    {
     "ename": "SyntaxError",
     "evalue": "invalid syntax (<ipython-input-1-59e3c9c7ecf0>, line 49)",
     "output_type": "error",
     "traceback": [
      "\u001b[0;36m  File \u001b[0;32m\"<ipython-input-1-59e3c9c7ecf0>\"\u001b[0;36m, line \u001b[0;32m49\u001b[0m\n\u001b[0;31m    mult = goal.lane_number -\u001b[0m\n\u001b[0m                              ^\u001b[0m\n\u001b[0;31mSyntaxError\u001b[0m\u001b[0;31m:\u001b[0m invalid syntax\n"
     ]
    }
   ],
   "source": [
    "# NOTE - need to emphasize the weaknesses of cost function approach and\n",
    "#        cost function design.\n",
    "#      - may want to send desired vehicle state to trajectory\n",
    "#      - we had a long discussion about whether or not to include \"track gap\"\n",
    "#        state. There is good pedagogical value to the debate that happened.\n",
    "#        Maybe Benjamin plays the role of \"screw it! Add another state!\" and\n",
    "#        Toby wants to keep the design of the state machine simple.\n",
    "\n",
    "ILLEGAL_COST = 100\n",
    "DANGEROUS_COST = 1000\n",
    "\n",
    "def decide_behavior(MAP, loc, predictions, goal):\n",
    "    \"\"\"\n",
    "    - To be called every 200 - 400 ms.\n",
    "    - We are NOT responsible for safety. That's the job of trajectory \n",
    "      (operating at a 50 ms update rate.)\n",
    "    \"\"\"\n",
    "    if not car.initialized:\n",
    "        car.state = \"ready_to_drive\"\n",
    "    s,v,a,lane = process_localization_data(loc, MAP)\n",
    "    possible_next_states = get_possible_states(car.state)\n",
    "    costs = []\n",
    "    for state in possible_next_states:\n",
    "        cost = calculate_cost(state, s, v, a, lane, predictions, goal, MAP)\n",
    "        costs.append((cost,state))\n",
    "    _, next_state = min(costs)\n",
    "    return next_state\n",
    "\n",
    "def calculate_cost(state, s, v, a, lane, predictions, goal, MAP):\n",
    "    # cost functions generally designed to output numbers between -1 and 1\n",
    "    # unless dangerous or illegal behavior\n",
    "    cost_functions = [\n",
    "        lane_change_cost,\n",
    "        velocity_cost,\n",
    "        gap_size_cost\n",
    "    ]\n",
    "    weights = [\n",
    "        1,\n",
    "        1,\n",
    "        1\n",
    "    ]\n",
    "    cost = 0\n",
    "    for cost_func, weight in zip(cost_functions, weights):\n",
    "        cost += weight * cost_func(state, s,v,a,lane,predictions,goal, MAP)\n",
    "    return cost\n",
    "\n",
    "def lane_change_cost(state, s,v,a,lane,predictions,goal, MAP):\n",
    "    if state not in [\"lane_change_left\", \"lane_change_right\"]:\n",
    "        return 0\n",
    "    diffs = {\"lane_change_left\":-1, \"lane_change_right\":+1}\n",
    "    next_lane = lane + diffs[state]\n",
    "    if not MAP.lane_exists_at_location(s, next_lane):\n",
    "        return DANGEROUS_COST\n",
    "    if abs(goal.lane - next_lane) < abs(goal.lane - lane):\n",
    "        return -1\n",
    "    else:\n",
    "        return 1\n",
    "\n",
    "def velocity_cost(state, s,v,a,lane,predictions,goal, MAP):\n",
    "    speed_limit = MAP.get_speed_limit(s, lane)\n",
    "    velocity_for_state = get_velocity_for_state(state, s,v,a,lane,predictions,goal,MAP)\n",
    "    if velocity_for_state > speed_limit: \n",
    "        return ILLEGAL_COST\n",
    "    return (speed_limit - velocity_for_state) / speed_limit # between 0 and 1\n",
    "\n",
    "def gap_size_cost(state, s,v,a,lane,predictions,goal, MAP):\n",
    "    L = MAP.vehicle_length\n",
    "    \n",
    "    # next evaluate the cost associated with all the available transitions\n",
    "    \n",
    "    # COSTS INCLUDE: \n",
    "    # 1. Does this make progress to the goal \n",
    "    #    in terms of number of lane changes remaining. \n",
    "    #    Idea is to penalize lane changes if they aren't necessary.\n",
    "    # 2. Velocity: We want to drive as close to the speed \n",
    "    #    limit as possible. (NOTE: Include speed limit in map)\n",
    "    # 3. Gap size: when making lane changes we prefer to aim for \n",
    "    #    larger gaps than smaller ones.\n",
    "    # 4. If you wanted to go further you might need a  \n",
    "    "
   ]
  },
  {
   "cell_type": "code",
   "execution_count": null,
   "metadata": {
    "collapsed": true
   },
   "outputs": [],
   "source": []
  }
 ],
 "metadata": {
  "kernelspec": {
   "display_name": "Python 2",
   "language": "python",
   "name": "python2"
  },
  "language_info": {
   "codemirror_mode": {
    "name": "ipython",
    "version": 2
   },
   "file_extension": ".py",
   "mimetype": "text/x-python",
   "name": "python",
   "nbconvert_exporter": "python",
   "pygments_lexer": "ipython2",
   "version": "2.7.10"
  }
 },
 "nbformat": 4,
 "nbformat_minor": 0
}
