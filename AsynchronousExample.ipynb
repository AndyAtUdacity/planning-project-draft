{
 "cells": [
  {
   "cell_type": "code",
   "execution_count": null,
   "metadata": {
    "collapsed": true
   },
   "outputs": [],
   "source": [
    "# A SYNCHRONOUS implementation of how a FSM works to generate\n",
    "# suggestions for behavior.\n",
    "def syncronous_behavior(car, loc, M, predictor, fsm):\n",
    "    if not fsm.initialized:\n",
    "        # set finite state machine to initial state\n",
    "        fsm.set_initial_state()\n",
    "    \n",
    "    # loop until driving is done\n",
    "    while not car.has_reached_goal():\n",
    "        car.state = loc.get_localization() # car's state is (lane, s, d, yaw, s_dot, d_dot, sigma_s, ...)\n",
    "        \n",
    "        # fsm state is one of small number of options\n",
    "        fsm.state = fsm.get_state(car.state) \n",
    "        \n",
    "        # get predictions for what nearby vehicles will do\n",
    "        next_predictions = predictor.get_predictions() \n",
    "        \n",
    "        # pare down the possible next states.\n",
    "        possible_next_states = fsm.get_possible_states_after(car.state)  \n",
    "        \n",
    "        # calculate the cost associated w/ each state\n",
    "        state_costs = []\n",
    "        for state in possible_next_states:\n",
    "            cost = fsm.get_cost(state, car, M, next_predictions)\n",
    "            state_costs.append((cost, state))\n",
    "        \n",
    "        # take the state with the lowest cost\n",
    "        best_cost, best_state = min(state_costs, key=lambda x: x.0)\n",
    "        \n",
    "        # generate a suggestion for the best state\n",
    "        suggestion = fsm.generate_best_behavior(best_state, car, M, next_predictions)\n",
    "        fsm.suggest_next_state(best_state)\n",
    "\n",
    "def get_cost(state, car, M, next_predictions):\n",
    "    cost = 0\n",
    "    for cf in [lane_change_cost, velocity_cost, gap_size_cost]:\n",
    "        cost += cf(state, car, M, next_predictions)\n",
    "    return cost\n",
    "    \n",
    "    "
   ]
  },
  {
   "cell_type": "code",
   "execution_count": null,
   "metadata": {
    "collapsed": true
   },
   "outputs": [],
   "source": [
    "class AsyncModule(object):\n",
    "    \n",
    "    "
   ]
  },
  {
   "cell_type": "code",
   "execution_count": 1,
   "metadata": {
    "collapsed": true
   },
   "outputs": [],
   "source": [
    "class PubSubBehaviorPlanner(object):\n",
    "    \n",
    "    _initial_state = \"ready\"\n",
    "    \n",
    "    _states = []\n",
    "    \n",
    "    _allowed_state_transitions = [\n",
    "        [],\n",
    "    ]\n",
    "    \n",
    "    def __init__(self, _map):\n",
    "        self._map = _map\n",
    "        self._current_state = self._initial_state\n",
    "        self._location = None\n",
    "        self._predictions = None\n",
    "        self._suggested_next_state = None\n",
    "\n",
    "    def _onLocalizationUpdate(self, data):\n",
    "        \"\"\"\n",
    "        Called when localizationUpdate event is emitted\n",
    "        \"\"\"\n",
    "        pass\n",
    "    \n",
    "    def _onPredictionUpdate(self, data):\n",
    "        \"\"\"\n",
    "        Called when predictionUpdate event is emitted\n",
    "        \"\"\"\n",
    "        pass\n",
    "    \n",
    "    def _onGoalChange(self, data):\n",
    "        \"\"\"\n",
    "        Called when predictionUpdate event is emitted\n",
    "        \"\"\"\n",
    "        pass\n",
    "    \n",
    "    def _emit(self, event, data):\n",
    "        \"\"\"\n",
    "        Broadcast point for all events\n",
    "        \n",
    "        \"\"\"\n",
    "    \n",
    "    def handle(self, event, data):\n",
    "        \"\"\"\n",
    "        Entry point for all events which calls the appropriate handler.\n",
    "        \"\"\"\n",
    "        handlers = {\n",
    "            \"localizationUpdate\" : self._onLocalizationUpdate,\n",
    "            \"predictionUpdate\"   : self._onPredictionUpdate,\n",
    "            \"goalChange\"         : self._onGoalChange,\n",
    "        }\n",
    "        handler = handlers.get(event)\n",
    "        if not handler: \n",
    "            print \"event {} not recognized\".format(event)\n",
    "            return\n",
    "        handler(data)\n",
    "    \n",
    "    def request_behavior(self, time_horizon=3.0, within_time=0.4):\n",
    "        \"\"\"\n",
    "        Called by planning module to indicate preferences \n",
    "        for next behavior update.\n",
    "        \"\"\"\n",
    "    "
   ]
  },
  {
   "cell_type": "code",
   "execution_count": null,
   "metadata": {
    "collapsed": true
   },
   "outputs": [],
   "source": []
  }
 ],
 "metadata": {
  "kernelspec": {
   "display_name": "Python 2",
   "language": "python",
   "name": "python2"
  },
  "language_info": {
   "codemirror_mode": {
    "name": "ipython",
    "version": 2
   },
   "file_extension": ".py",
   "mimetype": "text/x-python",
   "name": "python",
   "nbconvert_exporter": "python",
   "pygments_lexer": "ipython2",
   "version": "2.7.10"
  }
 },
 "nbformat": 4,
 "nbformat_minor": 0
}
