{
 "cells": [
  {
   "cell_type": "code",
   "execution_count": 2,
   "metadata": {
    "collapsed": false
   },
   "outputs": [],
   "source": [
    "import Tkinter as tk\n",
    "from collections import namedtuple\n",
    "import math\n",
    "import time"
   ]
  },
  {
   "cell_type": "code",
   "execution_count": 3,
   "metadata": {
    "collapsed": true
   },
   "outputs": [],
   "source": [
    "CANVAS_HEIGHT = 800\n",
    "CANVAS_WIDTH  = 800"
   ]
  },
  {
   "cell_type": "code",
   "execution_count": 77,
   "metadata": {
    "collapsed": true
   },
   "outputs": [],
   "source": [
    "\n",
    "Track = namedtuple(\"Track\", [\"radius\", \"num_lanes\", \"lane_width\"])\n",
    "class Car(object):\n",
    "    def __init__(self, s, d, speed, lane_num):\n",
    "        self.s = s\n",
    "        self.d = d\n",
    "        self.speed = speed\n",
    "        self.lane_num = lane_num\n",
    "        \n",
    "    def _advance(self, dt):\n",
    "        self.s += self.speed * dt\n",
    "        \n",
    "    def _get_coords(self, track):\n",
    "        r = track.radius + (self.lane_num + 0.5) * track.lane_width\n",
    "        circum = 2.0 * math.pi * r\n",
    "#         print \"circum is {} and s is {}\".format(circum, self.s)\n",
    "        theta = (2*math.pi * float(self.s % circum) / circum) % (2*math.pi)\n",
    "        r = r + self.d\n",
    "        _x = r * math.cos(theta) * -1\n",
    "        _y = r * math.sin(theta) * -1\n",
    "        x = _x + CANVAS_WIDTH / 2\n",
    "        y = _y + CANVAS_HEIGHT  / 2\n",
    "        return x,y\n",
    "    \n",
    "    def update(self, dt, track):\n",
    "        old_x, old_y = self._get_coords(track)\n",
    "        self._advance(dt)\n",
    "        x, y = self._get_coords(track)\n",
    "        dx = old_x - x\n",
    "        dy = old_y - y\n",
    "        return x, y\n",
    "        \n",
    "\n",
    "class Simulation(object):\n",
    "    car_size = 6\n",
    "    def __init__(self):\n",
    "        self.root = tk.Tk()\n",
    "        self.canvas = tk.Canvas(self.root, width=CANVAS_WIDTH, height = CANVAS_HEIGHT)\n",
    "        self.canvas.pack()\n",
    "        self.canvas.pack()\n",
    "        self.cars = []\n",
    "        self.animated_cars = []\n",
    "        self.root.after(0, self.animation)\n",
    "#         self.root.mainloop()\n",
    "\n",
    "    def draw_track(self, track, w, h):\n",
    "        diam = track.radius * 2\n",
    "        top_left = (w - diam) / 2\n",
    "        bot_right = w - top_left\n",
    "        self.track = track\n",
    "        for i in range(track.num_lanes + 1):\n",
    "            self.canvas.create_oval(top_left-i*track.lane_width,\n",
    "                               top_left-i*track.lane_width, \n",
    "                               bot_right+i*track.lane_width, \n",
    "                               bot_right+i*track.lane_width)\n",
    "\n",
    "    def add_car(self, L, s, d, lane_num):\n",
    "        car = Car(s,d, 100.0+20.0*lane_num, lane_num)\n",
    "        self.cars.append(car)\n",
    "        r = self.track.radius + (lane_num + 0.5) * self.track.lane_width\n",
    "\n",
    "        circum = 2.0 * math.pi * r\n",
    "\n",
    "        theta = 2*math.pi * (s % circum) / circum\n",
    "\n",
    "        _x = r * math.cos(theta) * -1\n",
    "        _y = r * math.sin(theta) * -1\n",
    "\n",
    "        x = _x + CANVAS_WIDTH / 2\n",
    "        y = _y + CANVAS_HEIGHT  / 2\n",
    "        \n",
    "        self.animated_cars.append(self.canvas.create_oval(x-L, y-L, x+L, y+L, outline=\"white\", fill=\"red\"))\n",
    "\n",
    "    def get_r_c(self, lane_num):\n",
    "        r = self.track.radius + (lane_num + 0.5) * self.track.lane_width\n",
    "        c = 2.0 * math.pi * r\n",
    "        return r,c\n",
    "        \n",
    "    def add_cars(self, L, lane_num, N):\n",
    "        radius, circ = self.get_r_c(lane_num)\n",
    "        for i in range(N):\n",
    "            self.add_car(L, circ * float(i) / N, 0, lane_num)\n",
    "        \n",
    "        \n",
    "    def animate(self):\n",
    "        self.root.mainloop()\n",
    "\n",
    "    def animation(self):\n",
    "        track = 0\n",
    "        dt = 0.025\n",
    "        print \"calling animation\"\n",
    "        seen = False\n",
    "        frames = 0\n",
    "        L = self.car_size\n",
    "        while True:\n",
    "            frames += 1\n",
    "            for i, car in enumerate(self.cars):\n",
    "                animated_car = self.animated_cars[i]\n",
    "#                 dx, dy = car.update(dt, self.track)\n",
    "                x, y = car.update(dt * 4, self.track)\n",
    "                self.canvas.coords(animated_car, x-L, y-L, x+L, y+L)\n",
    "#                 self.canvas.move(animated_car, dx, dy)\n",
    "                self.canvas.update()\n",
    "            seen = True\n",
    "            time.sleep(dt)\n"
   ]
  },
  {
   "cell_type": "code",
   "execution_count": 78,
   "metadata": {
    "collapsed": false
   },
   "outputs": [
    {
     "name": "stdout",
     "output_type": "stream",
     "text": [
      "calling animation\n"
     ]
    },
    {
     "name": "stderr",
     "output_type": "stream",
     "text": [
      "Exception in Tkinter callback\n",
      "Traceback (most recent call last):\n",
      "  File \"/System/Library/Frameworks/Python.framework/Versions/2.7/lib/python2.7/lib-tk/Tkinter.py\", line 1536, in __call__\n",
      "    return self.func(*args)\n",
      "  File \"/System/Library/Frameworks/Python.framework/Versions/2.7/lib/python2.7/lib-tk/Tkinter.py\", line 587, in callit\n",
      "    func(*args)\n",
      "  File \"<ipython-input-77-92393a88e6c6>\", line 101, in animation\n",
      "    self.canvas.coords(animated_car, x-L, y-L, x+L, y+L)\n",
      "  File \"/System/Library/Frameworks/Python.framework/Versions/2.7/lib/python2.7/lib-tk/Tkinter.py\", line 2294, in coords\n",
      "    self.tk.call((self._w, 'coords') + args)))\n",
      "TclError: invalid command name \".4443819544\"\n"
     ]
    }
   ],
   "source": [
    "s = Simulation()\n",
    "track = Track(300, 2, 20)\n",
    "s.draw_track(track, CANVAS_WIDTH, CANVAS_HEIGHT)\n",
    "s.add_cars(s.car_size, 0, 4)\n",
    "s.add_cars(s.car_size, 1, 6)\n",
    "s.animate()"
   ]
  },
  {
   "cell_type": "code",
   "execution_count": 61,
   "metadata": {
    "collapsed": false
   },
   "outputs": [
    {
     "name": "stdout",
     "output_type": "stream",
     "text": [
      "check\n",
      "1\n",
      "0\n"
     ]
    },
    {
     "name": "stderr",
     "output_type": "stream",
     "text": [
      "Exception in Tkinter callback\n",
      "Traceback (most recent call last):\n",
      "  File \"/System/Library/Frameworks/Python.framework/Versions/2.7/lib/python2.7/lib-tk/Tkinter.py\", line 1536, in __call__\n",
      "    return self.func(*args)\n",
      "  File \"/System/Library/Frameworks/Python.framework/Versions/2.7/lib/python2.7/lib-tk/Tkinter.py\", line 587, in callit\n",
      "    func(*args)\n",
      "  File \"<ipython-input-59-d99eb366b1c2>\", line 23, in animation\n",
      "    self.canvas.move(self.alien1, x, y)\n",
      "  File \"/System/Library/Frameworks/Python.framework/Versions/2.7/lib/python2.7/lib-tk/Tkinter.py\", line 2416, in move\n",
      "    self.tk.call((self._w, 'move') + args)\n",
      "TclError: invalid command name \".4591376576\"\n"
     ]
    }
   ],
   "source": [
    "s.animate()"
   ]
  },
  {
   "cell_type": "code",
   "execution_count": null,
   "metadata": {
    "collapsed": true
   },
   "outputs": [],
   "source": []
  }
 ],
 "metadata": {
  "kernelspec": {
   "display_name": "Python 2",
   "language": "python",
   "name": "python2"
  },
  "language_info": {
   "codemirror_mode": {
    "name": "ipython",
    "version": 2
   },
   "file_extension": ".py",
   "mimetype": "text/x-python",
   "name": "python",
   "nbconvert_exporter": "python",
   "pygments_lexer": "ipython2",
   "version": "2.7.10"
  }
 },
 "nbformat": 4,
 "nbformat_minor": 0
}
